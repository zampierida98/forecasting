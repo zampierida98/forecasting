{
 "cells": [
  {
   "cell_type": "markdown",
   "metadata": {},
   "source": [
    "# Analisi Predittive di Serie Numeriche\n",
    "\n",
    "Questo notebook si propone come riassunto della nostra esperienza nel tirocinio sulla previsione di serie numeriche temporali.\n",
    "Il tirocinio è stato diviso in due fasi, ciascuna della quali corrisponde a un dataset differente:\n",
    "\n",
    "- previsioni su \"negozio Albignasego\"\n",
    "- previsioni su \"M5 Competition\"\n",
    "\n",
    "Nella prima fase ciascuno di noi ha scelto in totale autonomia che metodo utilizzare per studiare e successivamente prevedere\n",
    "le serie temporali che ci sono state fornite, mentre la seconda è stata un lavoro di gruppo in cui abbiamo elaborato una soluzione comune per il problema che ci è stato proposto.\n",
    "\n",
    "## Confronto tra modelli\n",
    "\n",
    "Nel primo lavoro ci è stato fornito un insieme di dati riguardanti le vendite nel periodo 23/03/2013-29/09/2019 di un negozio di capi di abbigliamento. Abbiamo deciso di concentrarci unicamente sulla serie delle maglie in quanto il comportamento delle serie degli altri capi di abbiagliamento risultava analogo. Abbiamo diviso la serie nei due set di validazione (contenente l'80% delle osservazioni) e uno di validazione (contenente il 20% da confrontare con i risultati delle previsioni) e successivamente ci siamo concentrati sull'applicazione di modelli per le previsioni con lo scopo di trovare quelli che fornissero i risultati migliori."
   ]
  },
  {
   "cell_type": "markdown",
   "metadata": {},
   "source": [
    "### Studio della serie\n",
    "\n",
    "Per lo studio della serie ci siamo serviti di una serie di librerie che potessero fornire una serie di strumenti per estrarre o determinare le sue caratteristiche, oltre alle librerie per la manipolazione dei dati."
   ]
  },
  {
   "cell_type": "code",
   "execution_count": 6,
   "metadata": {},
   "outputs": [],
   "source": [
    "import math\n",
    "import itertools #realizzazione combinazioni per testare tutti i possibili ordini\n",
    "import numpy as np #strumenti matematici (metriche d'errore etc.)\n",
    "import pandas as pd #gestione serie temporali/dataframe\n",
    "import matplotlib.pyplot as plt #stampa dei grafici\n",
    "import datetime as dt #manipolazione date\n",
    "from statsmodels.tsa.arima_model import ARIMA #modello ARIMA\n",
    "from statsmodels.tsa.seasonal import seasonal_decompose #decomposizione serie in componenti\n",
    "from statsmodels.tsa.stattools import adfuller #metrica Dickey-Fuller per stazionarietà\n",
    "from statsmodels.tsa.stattools import kpss #metrica kpss per trend stazionarietà\n",
    "from statsmodels.tsa.stattools import acf, pacf #per la realizzazione dei grafici di autocorrelazione e autorcorrelazione parziale"
   ]
  },
  {
   "cell_type": "markdown",
   "metadata": {},
   "source": []
  },
  {
   "cell_type": "code",
   "execution_count": 8,
   "metadata": {},
   "outputs": [],
   "source": [
    "if __name__ == \"__main__\":\n",
    "\n",
    "    # Costanti per grandezza testo\n",
    "    \n",
    "    SMALL_SIZE = 28 \n",
    "    MEDIUM_SIZE = 30 \n",
    "    BIGGER_SIZE = 32 \n",
    "     \n",
    "    # Inizializzazione caratteristiche base dei PLOT\n",
    "    \n",
    "    plt.rc('font', size=SMALL_SIZE)          # controls default text sizes \n",
    "    plt.rc('axes', titlesize=SMALL_SIZE)     # fontsize of the axes title \n",
    "    plt.rc('axes', labelsize=MEDIUM_SIZE)    # fontsize of the x and y labels \n",
    "    plt.rc('xtick', labelsize=SMALL_SIZE)    # fontsize of the x tick labels \n",
    "    plt.rc('ytick', labelsize=SMALL_SIZE)    # fontsize of the y tick labels \n",
    "    plt.rc('legend', fontsize=SMALL_SIZE)    # fontsize of the legend\n",
    "    plt.rc('figure', titlesize=BIGGER_SIZE)  # fontsize of the figure title\n",
    "    \n",
    "    # COLORI\n",
    "    \n",
    "    TSC = 'black'   # training set\n",
    "    VSC = 'black'   # validation set\n",
    "    FC = 'red'      # previsioni\n",
    "    MRC = 'green'   # model results\n",
    "    OLC = 'orange'  # other lines\n",
    "    \n",
    "    # STAGIONI\n",
    "    \n",
    "    year = 365 # giorni\n",
    "    week = 7\n",
    "    half_year = 183\n",
    "    \n",
    "    # STAGIONE \n",
    "    season = half_year\n",
    "    \n",
    "    # caricamento insieme dati e verifica tipo delle colonne (solo per controllo)\n",
    "    # L'insieme di dati contiene la data e il numero di capi di abbigliamento venduti\n",
    "    # in quel giorno (per tipo).\n",
    "    # Faccio in modo che la data sia letta per ottenere una serie temporale\n",
    "    \n",
    "    dateparse = lambda dates: dt.datetime.strptime(dates, '%Y-%m-%d')\n",
    "    data = pd.read_csv('./NEGOZIO_ABBIGLIAMENTO/Dati_Albignasego/Whole period.csv', index_col=0, date_parser=dateparse)\n",
    "    \n",
    "    # usiamo solo la serie maglie. Il procedimento si può ripetere con ciascun capo...\n",
    "    \n",
    "    ts = data['MAGLIE'] "
   ]
  },
  {
   "cell_type": "code",
   "execution_count": null,
   "metadata": {},
   "outputs": [],
   "source": []
  }
 ],
 "metadata": {
  "kernelspec": {
   "display_name": "Python 3",
   "language": "python",
   "name": "python3"
  },
  "language_info": {
   "codemirror_mode": {
    "name": "ipython",
    "version": 3
   },
   "file_extension": ".py",
   "mimetype": "text/x-python",
   "name": "python",
   "nbconvert_exporter": "python",
   "pygments_lexer": "ipython3",
   "version": "3.7.7"
  }
 },
 "nbformat": 4,
 "nbformat_minor": 4
}
